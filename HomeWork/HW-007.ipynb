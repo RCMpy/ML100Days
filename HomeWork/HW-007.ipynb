{
 "cells": [
  {
   "cell_type": "code",
   "execution_count": 1,
   "metadata": {
    "id": "g7_Zhb9Bif-K"
   },
   "outputs": [
    {
     "data": {
      "text/plain": [
       "'1.19.5'"
      ]
     },
     "execution_count": 1,
     "metadata": {},
     "output_type": "execute_result"
    }
   ],
   "source": [
    "import numpy as np\n",
    "\n",
    "np.__version__"
   ]
  },
  {
   "cell_type": "markdown",
   "metadata": {
    "id": "GLhLqOtlj1fc"
   },
   "source": [
    "作業目標<br>\n",
    "活用矩陣運算，實做線性代數<br>\n",
    "作業重點<br>\n",
    "線性代數公式應用<br>\n",
    "矩陣相乘維度需要對好，例如:2X3矩陣乘上3X5矩陣得到2X5矩陣"
   ]
  },
  {
   "cell_type": "markdown",
   "metadata": {
    "id": "Rq6NRNxLj4w1"
   },
   "source": [
    "題目:<br>\n",
    "array1 = np.array([[10, 8], [3, 5]]) <br>\n",
    "1. 運用上列array計算反矩陣，乘上原矩陣，並觀察是否為單位矩陣?\n",
    "2. 運用上列array計算特徵值、特徵向量?\n",
    "3. 運用上列array計算SVD?"
   ]
  },
  {
   "cell_type": "code",
   "execution_count": 20,
   "metadata": {
    "id": "QT4ntMV1kR1c"
   },
   "outputs": [
    {
     "name": "stdout",
     "output_type": "stream",
     "text": [
      "the Inverse of array1 is:\n",
      " [[ 0.19230769 -0.30769231]\n",
      " [-0.11538462  0.38461538]]\n",
      "----------\n",
      "array1 x array1_I = \n",
      " [[1. 0.]\n",
      " [0. 1.]] \tis a identity matrix.\n"
     ]
    }
   ],
   "source": [
    "#1. 運用上列array計算反矩陣，乘上原矩陣，並觀察是否為單位矩陣?\n",
    "array1 = np.array([[10, 8], [3, 5]])\n",
    "\n",
    "(m,n) = np.shape(array1)\n",
    "if m == n:\n",
    "    inv_a1 = np.linalg.inv(array1)\n",
    "    print(\"the Inverse of array1 is:\\n\", inv_a1)\n",
    "else:\n",
    "    print((m,n), \", not a square matrix!\")\n",
    "\n",
    "\n",
    "print('----------')\n",
    "\n",
    "if False not in (np.dot(array1, inv_a1) == np.identity(n)):\n",
    "    print('array1 x array1_I = \\n', np.dot(array1, inv_a1), '\\tis a identity matrix.')\n",
    "else:\n",
    "    print('array1 x array1_I is not a identity matrix.')\n",
    "    "
   ]
  },
  {
   "cell_type": "code",
   "execution_count": 21,
   "metadata": {
    "id": "9f7cVxwwk-y9"
   },
   "outputs": [
    {
     "name": "stdout",
     "output_type": "stream",
     "text": [
      "the eigenvalue is:\n",
      " [13.  2.]\n",
      "\n",
      "the eigenvector is:\n",
      " [[ 0.93632918 -0.70710678]\n",
      " [ 0.35112344  0.70710678]]\n"
     ]
    }
   ],
   "source": [
    "#2. 運用上列array計算特徵值、特徵向量?\n",
    "(t, v) = np.linalg.eig(array1)\n",
    "\n",
    "print(\"the eigenvalue is:\\n\", t)\n",
    "print(\"\\nthe eigenvector is:\\n\", v)"
   ]
  },
  {
   "cell_type": "code",
   "execution_count": 38,
   "metadata": {
    "id": "OHSs5etxnL8D"
   },
   "outputs": [
    {
     "name": "stdout",
     "output_type": "stream",
     "text": [
      "the result of singular value decomposition on array1 is :\n",
      "U:\n",
      " [[-0.91663818 -0.39971796]\n",
      " [-0.39971796  0.91663818]] \n",
      "\tsig:\n",
      "\t [13.94721714  1.86417116] \n",
      "Vh:\n",
      " [[-0.74319741 -0.6690722 ]\n",
      " [-0.6690722   0.74319741]]\n"
     ]
    }
   ],
   "source": [
    "#3. 運用上列array計算SVD?\n",
    "(U, sig, Vh) = np.linalg.svd(array1)\n",
    "\n",
    "print(\"the result of singular value decomposition on array1 is :\\nU:\\n\", U, '\\n\\tsig:\\n\\t', sig, '\\nVh:\\n', Vh)"
   ]
  }
 ],
 "metadata": {
  "colab": {
   "collapsed_sections": [],
   "name": "作業Hong題目.ipynb",
   "provenance": []
  },
  "kernelspec": {
   "display_name": "Python 3",
   "language": "python",
   "name": "python3"
  },
  "language_info": {
   "codemirror_mode": {
    "name": "ipython",
    "version": 3
   },
   "file_extension": ".py",
   "mimetype": "text/x-python",
   "name": "python",
   "nbconvert_exporter": "python",
   "pygments_lexer": "ipython3",
   "version": "3.6.6"
  }
 },
 "nbformat": 4,
 "nbformat_minor": 1
}
