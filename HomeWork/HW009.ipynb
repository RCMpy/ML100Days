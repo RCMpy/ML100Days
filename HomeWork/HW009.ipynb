{
 "cells": [
  {
   "cell_type": "markdown",
   "metadata": {
    "id": "C2qkILqtM8Wg"
   },
   "source": [
    "作業目標:<br>\n",
    "1.讀取各種檔案格式<br>\n",
    "2.輸出各種檔案格式<br>"
   ]
  },
  {
   "cell_type": "markdown",
   "metadata": {
    "id": "t47Sf6ejNLn7"
   },
   "source": [
    "作業重點:<br>\n",
    "1.不同檔案讀取方式皆不同，須了解檔案格式中的邏輯，例如:csv是以逗號分隔<br>\n",
    "2.讀取、輸出檔案的程式碼不同，須注意使用方式"
   ]
  },
  {
   "cell_type": "markdown",
   "metadata": {
    "id": "IabouywFNmI7"
   },
   "source": [
    "題目: <br>\n",
    "讀取資料夾中boston.csv讀取其欄位CHAS、NOX、RM，輸出成.xlsx檔案"
   ]
  },
  {
   "cell_type": "code",
   "execution_count": 1,
   "metadata": {
    "id": "Rid6t1NoNrlB"
   },
   "outputs": [
    {
     "name": "stdout",
     "output_type": "stream",
     "text": [
      "     sepal length  sepal width  petal length  petal width  target\n",
      "0             5.1          3.5           1.4          0.2       0\n",
      "1             4.9          3.0           1.4          0.2       0\n",
      "2             4.7          3.2           1.3          0.2       0\n",
      "3             4.6          3.1           1.5          0.2       0\n",
      "4             5.0          3.6           1.4          0.2       0\n",
      "..            ...          ...           ...          ...     ...\n",
      "145           6.7          3.0           5.2          2.3       2\n",
      "146           6.3          2.5           5.0          1.9       2\n",
      "147           6.5          3.0           5.2          2.0       2\n",
      "148           6.2          3.4           5.4          2.3       2\n",
      "149           5.9          3.0           5.1          1.8       2\n",
      "\n",
      "[150 rows x 5 columns]\n"
     ]
    }
   ],
   "source": [
    "import pandas as pd\n",
    "\n",
    "iris_data = pd.read_csv('iris.csv')\n",
    "print(iris_data)"
   ]
  },
  {
   "cell_type": "code",
   "execution_count": 2,
   "metadata": {},
   "outputs": [
    {
     "name": "stdout",
     "output_type": "stream",
     "text": [
      "     sepal length  sepal width  petal length  petal width  target\n",
      "0             5.1          3.5           1.4          0.2       0\n",
      "1             4.9          3.0           1.4          0.2       0\n",
      "2             4.7          3.2           1.3          0.2       0\n",
      "3             4.6          3.1           1.5          0.2       0\n",
      "4             5.0          3.6           1.4          0.2       0\n",
      "..            ...          ...           ...          ...     ...\n",
      "145           6.7          3.0           5.2          2.3       2\n",
      "146           6.3          2.5           5.0          1.9       2\n",
      "147           6.5          3.0           5.2          2.0       2\n",
      "148           6.2          3.4           5.4          2.3       2\n",
      "149           5.9          3.0           5.1          1.8       2\n",
      "\n",
      "[150 rows x 5 columns]\n"
     ]
    }
   ],
   "source": [
    "data_data = pd.read_excel('data.xls')\n",
    "print(data_data)"
   ]
  },
  {
   "cell_type": "code",
   "execution_count": 3,
   "metadata": {},
   "outputs": [
    {
     "name": "stdout",
     "output_type": "stream",
     "text": [
      "     Unnamed: 0  CHAS    NOX     RM\n",
      "0             0     0  0.538  6.575\n",
      "1             1     0  0.469  6.421\n",
      "2             2     0  0.469  7.185\n",
      "3             3     0  0.458  6.998\n",
      "4             4     0  0.458  7.147\n",
      "..          ...   ...    ...    ...\n",
      "501         501     0  0.573  6.593\n",
      "502         502     0  0.573  6.120\n",
      "503         503     0  0.573  6.976\n",
      "504         504     0  0.573  6.794\n",
      "505         505     0  0.573  6.030\n",
      "\n",
      "[506 rows x 4 columns]\n"
     ]
    }
   ],
   "source": [
    "hw_bost_data = pd.read_excel('hw_boston.xlsx', engine='openpyxl')\n",
    "print(hw_bost_data)"
   ]
  },
  {
   "cell_type": "code",
   "execution_count": 4,
   "metadata": {
    "id": "YGXm3I0VMvSG"
   },
   "outputs": [
    {
     "name": "stdout",
     "output_type": "stream",
     "text": [
      "     Unnamed: 0     CRIM    ZN  INDUS  CHAS    NOX     RM   AGE     DIS  RAD  \\\n",
      "0             0  0.00632  18.0   2.31   0.0  0.538  6.575  65.2  4.0900  1.0   \n",
      "1             1  0.02731   0.0   7.07   0.0  0.469  6.421  78.9  4.9671  2.0   \n",
      "2             2  0.02729   0.0   7.07   0.0  0.469  7.185  61.1  4.9671  2.0   \n",
      "3             3  0.03237   0.0   2.18   0.0  0.458  6.998  45.8  6.0622  3.0   \n",
      "4             4  0.06905   0.0   2.18   0.0  0.458  7.147  54.2  6.0622  3.0   \n",
      "..          ...      ...   ...    ...   ...    ...    ...   ...     ...  ...   \n",
      "501         501  0.06263   0.0  11.93   0.0  0.573  6.593  69.1  2.4786  1.0   \n",
      "502         502  0.04527   0.0  11.93   0.0  0.573  6.120  76.7  2.2875  1.0   \n",
      "503         503  0.06076   0.0  11.93   0.0  0.573  6.976  91.0  2.1675  1.0   \n",
      "504         504  0.10959   0.0  11.93   0.0  0.573  6.794  89.3  2.3889  1.0   \n",
      "505         505  0.04741   0.0  11.93   0.0  0.573  6.030  80.8  2.5050  1.0   \n",
      "\n",
      "       TAX  PTRATIO       B  LSTAT  \n",
      "0    296.0     15.3  396.90   4.98  \n",
      "1    242.0     17.8  396.90   9.14  \n",
      "2    242.0     17.8  392.83   4.03  \n",
      "3    222.0     18.7  394.63   2.94  \n",
      "4    222.0     18.7  396.90   5.33  \n",
      "..     ...      ...     ...    ...  \n",
      "501  273.0     21.0  391.99   9.67  \n",
      "502  273.0     21.0  396.90   9.08  \n",
      "503  273.0     21.0  396.90   5.64  \n",
      "504  273.0     21.0  393.45   6.48  \n",
      "505  273.0     21.0  396.90   7.88  \n",
      "\n",
      "[506 rows x 14 columns]\n"
     ]
    }
   ],
   "source": [
    "#讀取資料夾中boston.csv讀取其欄位CHAS、NOX、RM，輸出成.xlsx檔案\n",
    "\n",
    "hwbost_data = pd.read_csv('boston.csv')\n",
    "print(hwbost_data)\n",
    "\n",
    "hwbost_data_p = pd.read_csv('boston.csv', usecols=['CHAS', 'NOX', 'RM'])\n",
    "hwbost_data_p.to_excel('HW009-boston(part).xlsx', engine='openpyxl')"
   ]
  },
  {
   "cell_type": "code",
   "execution_count": null,
   "metadata": {
    "id": "RkTGpcqfMvSH"
   },
   "outputs": [],
   "source": []
  }
 ],
 "metadata": {
  "colab": {
   "collapsed_sections": [],
   "name": "pandas_io_homework題目.ipynb",
   "provenance": []
  },
  "kernelspec": {
   "display_name": "Python 3",
   "language": "python",
   "name": "python3"
  },
  "language_info": {
   "codemirror_mode": {
    "name": "ipython",
    "version": 3
   },
   "file_extension": ".py",
   "mimetype": "text/x-python",
   "name": "python",
   "nbconvert_exporter": "python",
   "pygments_lexer": "ipython3",
   "version": "3.6.6"
  }
 },
 "nbformat": 4,
 "nbformat_minor": 1
}
