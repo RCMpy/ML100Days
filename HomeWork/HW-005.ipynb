{
 "cells": [
  {
   "cell_type": "markdown",
   "metadata": {
    "id": "oef8c2jr-PZY"
   },
   "source": [
    "作業目標<br>\n",
    "計算有缺失值的資料，統計量實作<br>\n",
    "作業重點<br>\n",
    "當遇到缺失值有函式可以處理，不須額外寫程式刪除<br>\n",
    "計算統計量時不能出現缺失值"
   ]
  },
  {
   "cell_type": "markdown",
   "metadata": {
    "id": "4YgL8NF4-Ru3"
   },
   "source": [
    "題目:<br>\n",
    "english_score = np.array([55,89,76,65,48,70])<br>\n",
    "math_score = np.array([60,85,60,68,np.nan,60])<br>\n",
    "chinese_score = np.array([65,90,82,72,66,77])<br>\n",
    "上3列共六位同學的英文、數學、國文成績，第一個元素代表第一位同學，舉例第一位同學英文55分、數學60分、國文65分，今天第五位同學因某原因沒來考試，導致數學成績缺值，運用上列數據回答下列問題。<br>\n",
    "1. 請計算各科成績平均、最大值、最小值、標準差，其中數學缺一筆資料可忽略?\n",
    "2. 第五位同學補考數學後成績為55，請計算補考後數學成績平均、最大值、最小值、標準差?\n",
    "3. 用補考後資料找出與國文成績相關係數最高的學科?"
   ]
  },
  {
   "cell_type": "code",
   "execution_count": 71,
   "metadata": {
    "executionInfo": {
     "elapsed": 617,
     "status": "ok",
     "timestamp": 1609854566856,
     "user": {
      "displayName": "献竤黃",
      "photoUrl": "",
      "userId": "07529243043474362942"
     },
     "user_tz": -480
    },
    "id": "QwsKU8qO-RK7"
   },
   "outputs": [
    {
     "data": {
      "text/plain": [
       "'1.19.5'"
      ]
     },
     "execution_count": 71,
     "metadata": {},
     "output_type": "execute_result"
    }
   ],
   "source": [
    "import numpy as np\n",
    "np.__version__"
   ]
  },
  {
   "cell_type": "code",
   "execution_count": 72,
   "metadata": {
    "executionInfo": {
     "elapsed": 1016,
     "status": "ok",
     "timestamp": 1609854567261,
     "user": {
      "displayName": "献竤黃",
      "photoUrl": "",
      "userId": "07529243043474362942"
     },
     "user_tz": -480
    },
    "id": "B5BqDQAe_czh"
   },
   "outputs": [],
   "source": [
    "english_score = np.array([55,89,76,65,48,70])\n",
    "math_score = np.array([60,85,60,68,np.nan,60])\n",
    "chinese_score = np.array([65,90,82,72,66,77])"
   ]
  },
  {
   "cell_type": "code",
   "execution_count": 73,
   "metadata": {
    "executionInfo": {
     "elapsed": 1005,
     "status": "ok",
     "timestamp": 1609854567262,
     "user": {
      "displayName": "献竤黃",
      "photoUrl": "",
      "userId": "07529243043474362942"
     },
     "user_tz": -480
    },
    "id": "K3tUA6u9aI3N"
   },
   "outputs": [
    {
     "name": "stdout",
     "output_type": "stream",
     "text": [
      "English: \n",
      "Avrage: 67.1667\n",
      "Maximum: 89\n",
      "Minimum: 48\n",
      "Standard Deviation: 13.4340\n",
      "Missed: No\n",
      "--------\n",
      "\n",
      "Math: \n",
      "Avrage: 66.6000\n",
      "Maximum: 85\n",
      "Minimum: 60\n",
      "Standard Deviation: 9.7077\n",
      "Missed: Yes\n",
      "--------\n",
      "\n",
      "Chinese: \n",
      "Avrage: 75.3333\n",
      "Maximum: 90\n",
      "Minimum: 65\n",
      "Standard Deviation: 8.8255\n",
      "Missed: No\n",
      "--------\n",
      "\n"
     ]
    }
   ],
   "source": [
    "#1. 請計算各科成績平均、最大值、最小值、標準差，其中數學缺一筆資料可忽略?\n",
    "\n",
    "avgE = np.mean(english_score) if True not in np.isnan(english_score) else np.nanmean(english_score)\n",
    "avgM = np.mean(math_score) if True not in np.isnan(math_score) else np.nanmean(math_score)\n",
    "avgC = np.mean(chinese_score) if True not in np.isnan(chinese_score) else np.nanmean(chinese_score)\n",
    "\n",
    "MaxE = np.max(english_score) if True not in np.isnan(english_score) else np.nanmax(english_score)\n",
    "MinE = np.min(english_score) if True not in np.isnan(english_score) else np.nanmin(english_score)\n",
    "StdE = np.std(english_score) if True not in np.isnan(english_score) else np.nanstd(english_score)\n",
    "\n",
    "MaxM = np.max(math_score) if True not in np.isnan(math_score) else np.nanmax(math_score)\n",
    "MinM = np.min(math_score) if True not in np.isnan(math_score) else np.nanmin(math_score)\n",
    "StdM = np.std(math_score) if True not in np.isnan(math_score) else np.nanstd(math_score)\n",
    "\n",
    "MaxC = np.max(chinese_score) if True not in np.isnan(chinese_score) else np.nanmax(chinese_score)\n",
    "MinC = np.min(chinese_score) if True not in np.isnan(chinese_score) else np.nanmin(chinese_score)\n",
    "StdC = np.std(chinese_score) if True not in np.isnan(chinese_score) else np.nanstd(chinese_score)\n",
    "\n",
    "lackE = 'No' if True not in np.isnan(english_score) else 'Yes'\n",
    "lackM = 'No' if True not in np.isnan(math_score) else 'Yes'\n",
    "lackC = 'No' if True not in np.isnan(chinese_score) else 'Yes'\n",
    "\n",
    "print(\"English: \\nAvrage: %.4f\\nMaximum: %d\\nMinimum: %d\\nStandard Deviation: %.4f\\nMissed: %s\\n--------\\n\" %(avgE, MaxE, MinE, StdE, lackE))\n",
    "print(\"Math: \\nAvrage: %.4f\\nMaximum: %d\\nMinimum: %d\\nStandard Deviation: %.4f\\nMissed: %s\\n--------\\n\" %(avgM, MaxM, MinM, StdM, lackM))\n",
    "print(\"Chinese: \\nAvrage: %.4f\\nMaximum: %d\\nMinimum: %d\\nStandard Deviation: %.4f\\nMissed: %s\\n--------\\n\" %(avgC, MaxC, MinC, StdC, lackC))\n",
    "\n"
   ]
  },
  {
   "cell_type": "code",
   "execution_count": 74,
   "metadata": {
    "executionInfo": {
     "elapsed": 996,
     "status": "ok",
     "timestamp": 1609854567262,
     "user": {
      "displayName": "献竤黃",
      "photoUrl": "",
      "userId": "07529243043474362942"
     },
     "user_tz": -480
    },
    "id": "mXjDzvSrbLlf"
   },
   "outputs": [
    {
     "name": "stdout",
     "output_type": "stream",
     "text": [
      "English: \n",
      "Avrage: 67.1667\n",
      "Maximum: 89\n",
      "Minimum: 48\n",
      "Standard Deviation: 13.4340\n",
      "Missed: No\n",
      "--------\n",
      "\n",
      "Math: \n",
      "Avrage: 64.6667\n",
      "Maximum: 85\n",
      "Minimum: 55\n",
      "Standard Deviation: 9.8601\n",
      "Missed: No\n",
      "--------\n",
      "\n",
      "Chinese: \n",
      "Avrage: 75.3333\n",
      "Maximum: 90\n",
      "Minimum: 65\n",
      "Standard Deviation: 8.8255\n",
      "Missed: No\n",
      "--------\n",
      "\n"
     ]
    }
   ],
   "source": [
    "#2. 第五位同學補考數學後成績為55，請計算補考後數學成績平均、最大值、最小值、標準差?\n",
    "math_score[4] = 55\n",
    "\n",
    "avgE = np.mean(english_score) if True not in np.isnan(english_score) else np.nanmean(english_score)\n",
    "avgM = np.mean(math_score) if True not in np.isnan(math_score) else np.nanmean(math_score)\n",
    "avgC = np.mean(chinese_score) if True not in np.isnan(chinese_score) else np.nanmean(chinese_score)\n",
    "\n",
    "MaxE = np.max(english_score) if True not in np.isnan(english_score) else np.nanmax(english_score)\n",
    "MinE = np.min(english_score) if True not in np.isnan(english_score) else np.nanmin(english_score)\n",
    "StdE = np.std(english_score) if True not in np.isnan(english_score) else np.nanstd(english_score)\n",
    "\n",
    "MaxM = np.max(math_score) if True not in np.isnan(math_score) else np.nanmax(math_score)\n",
    "MinM = np.min(math_score) if True not in np.isnan(math_score) else np.nanmin(math_score)\n",
    "StdM = np.std(math_score) if True not in np.isnan(math_score) else np.nanstd(math_score)\n",
    "\n",
    "MaxC = np.max(chinese_score) if True not in np.isnan(chinese_score) else np.nanmax(chinese_score)\n",
    "MinC = np.min(chinese_score) if True not in np.isnan(chinese_score) else np.nanmin(chinese_score)\n",
    "StdC = np.std(chinese_score) if True not in np.isnan(chinese_score) else np.nanstd(chinese_score)\n",
    "\n",
    "lackE = 'No' if True not in np.isnan(english_score) else 'Yes'\n",
    "lackM = 'No' if True not in np.isnan(math_score) else 'Yes'\n",
    "lackC = 'No' if True not in np.isnan(chinese_score) else 'Yes'\n",
    "\n",
    "print(\"English: \\nAvrage: %.4f\\nMaximum: %d\\nMinimum: %d\\nStandard Deviation: %.4f\\nMissed: %s\\n--------\\n\" %(avgE, MaxE, MinE, StdE, lackE))\n",
    "print(\"Math: \\nAvrage: %.4f\\nMaximum: %d\\nMinimum: %d\\nStandard Deviation: %.4f\\nMissed: %s\\n--------\\n\" %(avgM, MaxM, MinM, StdM, lackM))\n",
    "print(\"Chinese: \\nAvrage: %.4f\\nMaximum: %d\\nMinimum: %d\\nStandard Deviation: %.4f\\nMissed: %s\\n--------\\n\" %(avgC, MaxC, MinC, StdC, lackC))\n"
   ]
  },
  {
   "cell_type": "code",
   "execution_count": 75,
   "metadata": {
    "executionInfo": {
     "elapsed": 989,
     "status": "ok",
     "timestamp": 1609854567264,
     "user": {
      "displayName": "献竤黃",
      "photoUrl": "",
      "userId": "07529243043474362942"
     },
     "user_tz": -480
    },
    "id": "SaGolKx0cKoU"
   },
   "outputs": [
    {
     "name": "stdout",
     "output_type": "stream",
     "text": [
      "Answer 2:\n",
      "\n",
      "\tThe English are with the highest correlation coefficient with Chinese subject.\n"
     ]
    }
   ],
   "source": [
    "#3. 用補考後資料找出與國文成績相關係數最高的學科?\n",
    "\n",
    "cof_CE = np.corrcoef(chinese_score, english_score)\n",
    "cof_CM = np.corrcoef(chinese_score, math_score)\n",
    "\n",
    "print(\"Answer 2:\\n\")\n",
    "print(\"\\tThe English are with the highest correlation coefficient with Chinese subject.\") if True in np.greater(cof_CE, cof_CM) else print(\"\\tThe Math are with the highest correlation coefficient with Chinese subject.\")"
   ]
  },
  {
   "cell_type": "code",
   "execution_count": 5,
   "metadata": {
    "executionInfo": {
     "elapsed": 987,
     "status": "ok",
     "timestamp": 1609854567264,
     "user": {
      "displayName": "献竤黃",
      "photoUrl": "",
      "userId": "07529243043474362942"
     },
     "user_tz": -480
    },
    "id": "fTNlLZ9Pzyiy"
   },
   "outputs": [],
   "source": []
  }
 ],
 "metadata": {
  "colab": {
   "authorship_tag": "ABX9TyPtywwDR7TsGGEOMGYLDT5h",
   "collapsed_sections": [],
   "name": "作業Hong題目.ipynb",
   "provenance": []
  },
  "kernelspec": {
   "display_name": "Python 3",
   "language": "python",
   "name": "python3"
  },
  "language_info": {
   "codemirror_mode": {
    "name": "ipython",
    "version": 3
   },
   "file_extension": ".py",
   "mimetype": "text/x-python",
   "name": "python",
   "nbconvert_exporter": "python",
   "pygments_lexer": "ipython3",
   "version": "3.6.6"
  }
 },
 "nbformat": 4,
 "nbformat_minor": 1
}
