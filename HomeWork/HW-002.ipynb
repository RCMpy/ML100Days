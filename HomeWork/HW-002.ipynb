{
 "cells": [
  {
   "cell_type": "markdown",
   "metadata": {
    "id": "CcQnaVToJoMC"
   },
   "source": [
    "作業目標<br>\n",
    "熟悉陣列維度轉換，並且會擷取需要資料<br>\n",
    "作業重點<br>\n",
    "使用reshap須注意order用法<br>\n",
    "where可以運用邏輯條件擷取資料"
   ]
  },
  {
   "cell_type": "markdown",
   "metadata": {
    "id": "JKtCM_7rJqUp"
   },
   "source": [
    "題目:<br>\n",
    "1.將下列陣列(array1)，轉成維度為(5X6)的array，順序按列填充。(hint:order=\"F\")<br>\n",
    "2.呈上題的array，找出被6除餘1的數的索引<br>"
   ]
  },
  {
   "cell_type": "code",
   "execution_count": 56,
   "metadata": {
    "id": "9U3itXkFKqV4"
   },
   "outputs": [
    {
     "data": {
      "text/plain": [
       "'1.19.5'"
      ]
     },
     "execution_count": 56,
     "metadata": {},
     "output_type": "execute_result"
    }
   ],
   "source": [
    "import numpy as np\n",
    "np.__version__"
   ]
  },
  {
   "cell_type": "code",
   "execution_count": 87,
   "metadata": {
    "id": "kLjyVid_JpIC"
   },
   "outputs": [
    {
     "name": "stdout",
     "output_type": "stream",
     "text": [
      "array1: -->  [ 0  1  2  3  4  5  6  7  8  9 10 11 12 13 14 15 16 17 18 19 20 21 22 23\n",
      " 24 25 26 27 28 29] \n",
      "\n",
      "Answer 1-1 :\n",
      " [[ 0  5 10 15 20 25]\n",
      " [ 1  6 11 16 21 26]\n",
      " [ 2  7 12 17 22 27]\n",
      " [ 3  8 13 18 23 28]\n",
      " [ 4  9 14 19 24 29]] \n",
      "\n",
      "Answer 1-2 :\n",
      " [[ 0  5 10 15 20 25]\n",
      " [ 1  6 11 16 21 26]\n",
      " [ 2  7 12 17 22 27]\n",
      " [ 3  8 13 18 23 28]\n",
      " [ 4  9 14 19 24 29]] \n",
      "\n",
      "array1: -->  [ 0  1  2  3  4  5  6  7  8  9 10 11 12 13 14 15 16 17 18 19 20 21 22 23\n",
      " 24 25 26 27 28 29] \n",
      "\n"
     ]
    }
   ],
   "source": [
    "#1.將下列清單(list1)，轉成維度為(5X6)的array，順序按列填充。(hint:order=\"F\")\n",
    "array1 = np.array(range(30))\n",
    "print('array1: --> ', array1, '\\n')\n",
    "a11 = array1.reshape((5, -1), order = 'F')\n",
    "print(\"Answer 1-1 :\\n\", a11, '\\n')\n",
    "\n",
    "#print(array1, '\\n')\n",
    "\n",
    "a13 = np.resize(array1, (6, 5)).transpose()\n",
    "print(\"Answer 1-2 :\\n\", a13, '\\n')\n",
    "\n",
    "print('array1: --> ', array1, '\\n')\n",
    "\n",
    "\n",
    "# 若array直接進行resize,會無法print且會改變原array??\n",
    "# a12 = array1.resize((5, 6), refcheck = False)\n",
    "# print(a12, '\\n')\n",
    "\n",
    "# print(array1, '\\n')\n"
   ]
  },
  {
   "cell_type": "code",
   "execution_count": 88,
   "metadata": {
    "id": "kLjyVid_JpIC"
   },
   "outputs": [
    {
     "name": "stdout",
     "output_type": "stream",
     "text": [
      "[ 0  1  2  3  4  5  6  7  8  9 10 11 12 13 14 15 16 17 18 19 20 21 22 23\n",
      " 24 25 26 27 28 29] \n",
      " ============= \n",
      "\n",
      "Answer 2-1 :\n",
      " (array([ 1,  7, 13, 19, 25], dtype=int64),) \n",
      " ------------ \n",
      "\n",
      "Answer 2-2 :\n",
      " [ 1  7 13 19 25] \n",
      "\n"
     ]
    }
   ],
   "source": [
    "#2.呈上題的array，找出被6除餘1的數的索引\n",
    "array1 = np.array(range(30))\n",
    "print(array1, '\\n ============= \\n')\n",
    "\n",
    "a21 = np.where((array1 % 6) == 1)\n",
    "print(\"Answer 2-1 :\\n\", a21, '\\n ------------ \\n')\n",
    "\n",
    "a22 = (array1 % 6).argsort(kind='mergesort')[5:10]\n",
    "print(\"Answer 2-2 :\\n\", a22, '\\n')"
   ]
  },
  {
   "cell_type": "code",
   "execution_count": null,
   "metadata": {
    "id": "XvRQhJxNxRPd"
   },
   "outputs": [],
   "source": []
  }
 ],
 "metadata": {
  "colab": {
   "collapsed_sections": [],
   "name": "作業_題目Hong.ipynb",
   "provenance": []
  },
  "kernelspec": {
   "display_name": "Python 3",
   "language": "python",
   "name": "python3"
  },
  "language_info": {
   "codemirror_mode": {
    "name": "ipython",
    "version": 3
   },
   "file_extension": ".py",
   "mimetype": "text/x-python",
   "name": "python",
   "nbconvert_exporter": "python",
   "pygments_lexer": "ipython3",
   "version": "3.6.6"
  }
 },
 "nbformat": 4,
 "nbformat_minor": 1
}
