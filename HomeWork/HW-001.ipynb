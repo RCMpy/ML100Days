{
 "cells": [
  {
   "cell_type": "markdown",
   "metadata": {
    "id": "5aWZnhxBD2p2"
   },
   "source": [
    "作業目標:<br>\n",
    "在array中，可以靈活應用索引幫助資料擷取<br>\n",
    "作業重點:<br>\n",
    "陣列的索引、切片、以及屬性，皆需要注意使用方式<br>\n",
    "陣列之中索引式由0開始請同學注意"
   ]
  },
  {
   "cell_type": "markdown",
   "metadata": {
    "id": "Ec7jpEEnD4rj"
   },
   "source": [
    "題目:<br>\n",
    "1.生成一個等差數列，首數為0，尾數為20，公差為1的數列。<br>\n",
    "2.呈上題，將以上數列取出偶數。<br>\n",
    "3.呈1題，將數列取出3的倍數。<br>"
   ]
  },
  {
   "cell_type": "code",
   "execution_count": 5,
   "metadata": {
    "id": "NfVTcwauD3rg"
   },
   "outputs": [],
   "source": [
    "import numpy as np"
   ]
  },
  {
   "cell_type": "code",
   "execution_count": 35,
   "metadata": {
    "id": "QrOaxfmeEpvo"
   },
   "outputs": [
    {
     "name": "stdout",
     "output_type": "stream",
     "text": [
      "Method 1 :  [ 0  1  2  3  4  5  6  7  8  9 10 11 12 13 14 15 16 17 18 19 20]\n",
      "Method 2 :  [ 0  1  2  3  4  5  6  7  8  9 10 11 12 13 14 15 16 17 18 19 20]\n"
     ]
    }
   ],
   "source": [
    "#1.生成一個等差數列，首數為0，尾數為20，公差為1的數列。\n",
    "np1 = np.arange(0, 21, 1)\n",
    "print(\"Method 1 : \", np1)\n",
    "\n",
    "np2 = np.linspace(0, 20, num = 21, dtype = 'int')\n",
    "print(\"Method 2 : \", np2)"
   ]
  },
  {
   "cell_type": "code",
   "execution_count": 60,
   "metadata": {
    "id": "5FFeFSvoEtRP"
   },
   "outputs": [
    {
     "name": "stdout",
     "output_type": "stream",
     "text": [
      "Method 1 :  [ 0  2  4  6  8 10 12 14 16 18 20]\n",
      "Method 1-2 :  [ 0  2  4  6  8 10 12 14 16 18 20]\n",
      "Method 2 :  [ 0  2  4  6  8 10 12 14 16 18 20]\n"
     ]
    }
   ],
   "source": [
    "#2.呈上題，將以上數列取出偶數。\n",
    "np12 = np.arange(0, 21, 2)\n",
    "np122 = np.arange(0, 21, 1)[::2]\n",
    "print(\"Method 1 : \", np12)\n",
    "print(\"Method 1-2 : \", np122)\n",
    "\n",
    "np22 = np.linspace(0, 20, num = int(21/2 + 1), dtype = 'int')\n",
    "print(\"Method 2 : \", np22)"
   ]
  },
  {
   "cell_type": "code",
   "execution_count": 89,
   "metadata": {
    "id": "7-HcNGFsFD-_"
   },
   "outputs": [
    {
     "name": "stdout",
     "output_type": "stream",
     "text": [
      "Method 1 :  [ 0  3  6  9 12 15 18]\n",
      "Method 1-2 :  [ 0  3  6  9 12 15 18]\n",
      "Method 1-3 :  [ 0  3  6  9 12 15 18]\n",
      "Method 2 :  [ 0  3  6  9 12 15 18]\n"
     ]
    }
   ],
   "source": [
    "#3.呈1題，將數列取出3的倍數。\n",
    "np13 = np.arange(0, 21, 3)\n",
    "np132 = np.arange(0, 21, 1)[::3]\n",
    "print(\"Method 1 : \", np13)\n",
    "print(\"Method 1-2 : \", np132)\n",
    "print(\"Method 1-3 : \", np.array([i for i in np.arange(0, 21, 1) if i % 3 == 0]))\n",
    "\n",
    "\n",
    "np23 = np.linspace(0, 20, num = 21, dtype = 'int')[::3]\n",
    "print(\"Method 2 : \", np23)\n",
    "#print(np.linspace(0, 20, num = round(20/3), endpoint = False))\n",
    "#np.around(np.linspace(0, 20, num = round(20/3), endpoint = False))"
   ]
  },
  {
   "cell_type": "code",
   "execution_count": null,
   "metadata": {
    "id": "6_6Emob-FHn3"
   },
   "outputs": [],
   "source": []
  }
 ],
 "metadata": {
  "colab": {
   "collapsed_sections": [],
   "name": "作業題目.ipynb",
   "provenance": []
  },
  "kernelspec": {
   "display_name": "Python 3",
   "language": "python",
   "name": "python3"
  },
  "language_info": {
   "codemirror_mode": {
    "name": "ipython",
    "version": 3
   },
   "file_extension": ".py",
   "mimetype": "text/x-python",
   "name": "python",
   "nbconvert_exporter": "python",
   "pygments_lexer": "ipython3",
   "version": "3.6.6"
  }
 },
 "nbformat": 4,
 "nbformat_minor": 1
}
